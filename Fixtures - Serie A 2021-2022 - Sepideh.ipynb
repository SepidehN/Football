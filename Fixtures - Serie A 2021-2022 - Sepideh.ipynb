{
 "cells": [
  {
   "cell_type": "markdown",
   "metadata": {},
   "source": [
    "\n",
    " # Serie A 2021-2022 Fixtures \n",
    " \n",
    " #### Sepideh Nazemi"
   ]
  },
  {
   "cell_type": "markdown",
   "metadata": {},
   "source": [
    "In this notebook, I have extracted Fixtures of Serie A league and provided two functions that can look up information about the next game of a user's desired team or the next game(s) in general."
   ]
  },
  {
   "cell_type": "code",
   "execution_count": 1,
   "metadata": {},
   "outputs": [],
   "source": [
    "import pandas as pd\n",
    "import numpy as np\n",
    "import requests \n",
    "from bs4 import BeautifulSoup\n",
    "from datetime import date"
   ]
  },
  {
   "cell_type": "markdown",
   "metadata": {},
   "source": [
    "- The web address I use to scrap data from is https://understat.com\n"
   ]
  },
  {
   "cell_type": "code",
   "execution_count": 2,
   "metadata": {},
   "outputs": [],
   "source": [
    "# create urls for all seasons of all leagues \n",
    "base_url = 'https://understat.com/league' \n",
    "leagues = ['La_liga', 'EPL', 'Bundesliga', 'Serie_A', 'Ligue_1', 'RFPL'] \n",
    "seasons = ['2019', '2020','2021']"
   ]
  },
  {
   "cell_type": "markdown",
   "metadata": {},
   "source": [
    "- Focusing on Serie A 2021-22 I will use the following URL: https://understat.com/league/Serie_A/2021"
   ]
  },
  {
   "cell_type": "code",
   "execution_count": 3,
   "metadata": {},
   "outputs": [],
   "source": [
    "# Creating the url\n",
    "url = base_url+'/'+leagues[3]+'/'+seasons[2] \n"
   ]
  },
  {
   "cell_type": "markdown",
   "metadata": {},
   "source": [
    "- Inspecting the structure of the webpage, it seams that the related data (i.e, datesData ) is in the Json variable under 'script' tag."
   ]
  },
  {
   "cell_type": "code",
   "execution_count": 4,
   "metadata": {},
   "outputs": [],
   "source": [
    "res = requests.get(url) \n",
    "soup = BeautifulSoup(res.content, \"lxml\")\n",
    "scripts = soup.find_all('script')"
   ]
  },
  {
   "cell_type": "code",
   "execution_count": 5,
   "metadata": {},
   "outputs": [],
   "source": [
    "import json \n",
    "string_with_json_obj = '' \n",
    "# Find data for matches \n",
    "for el in scripts: \n",
    "    if 'datesData' in el.text: \n",
    "        string_with_json_obj = el.text.strip()\n",
    "# print(string_with_json_obj)\n",
    "# strip unnecessary symbols and get only JSON data \n",
    "ind_start = string_with_json_obj.index(\"('\")+2 \n",
    "ind_end = string_with_json_obj.index(\"')\") \n",
    "json_data = string_with_json_obj[ind_start:ind_end] \n",
    "json_data = json_data.encode('utf8').decode('unicode_escape')"
   ]
  },
  {
   "cell_type": "code",
   "execution_count": 6,
   "metadata": {},
   "outputs": [],
   "source": [
    "data = json.loads(json_data)\n",
    "#data"
   ]
  },
  {
   "cell_type": "markdown",
   "metadata": {},
   "source": [
    "- Information about all matches came as a list where each element of the list is a dictionary containing details of the specific game."
   ]
  },
  {
   "cell_type": "code",
   "execution_count": 7,
   "metadata": {},
   "outputs": [
    {
     "data": {
      "text/plain": [
       "{'id': '16756',\n",
       " 'isResult': True,\n",
       " 'h': {'id': '94', 'title': 'Verona', 'short_title': 'VER'},\n",
       " 'a': {'id': '104', 'title': 'Sassuolo', 'short_title': 'SAS'},\n",
       " 'goals': {'h': '2', 'a': '3'},\n",
       " 'xG': {'h': '2.25155', 'a': '1.86679'},\n",
       " 'datetime': '2021-08-21 16:30:00',\n",
       " 'forecast': {'w': '0.4794', 'd': '0.2373', 'l': '0.2833'}}"
      ]
     },
     "execution_count": 7,
     "metadata": {},
     "output_type": "execute_result"
    }
   ],
   "source": [
    "data[0]"
   ]
  },
  {
   "cell_type": "code",
   "execution_count": null,
   "metadata": {},
   "outputs": [],
   "source": []
  },
  {
   "cell_type": "code",
   "execution_count": 8,
   "metadata": {},
   "outputs": [],
   "source": [
    "#Reformating data list \n",
    "home_team = [item['h']['title'] for item in data]\n",
    "away_team = [item['a']['title'] for item in data]\n",
    "home_goal = [item['goals']['h'] for item in data]\n",
    "away_goal = [item['goals']['a'] for item in data]\n",
    "match_date = [item['datetime'] for item in data]\n",
    "status = [item['isResult'] for item in data]\n",
    "\n",
    "\n",
    "# Creating a DataFrame \n",
    "fixtures_df = pd.DataFrame({'Date':match_date, 'Home':home_team, 'Away': away_team, 'Scored Home':home_goal,\n",
    "                            'Scored Away': away_goal, 'Status': status})\n",
    "    "
   ]
  },
  {
   "cell_type": "code",
   "execution_count": 9,
   "metadata": {},
   "outputs": [
    {
     "data": {
      "text/html": [
       "<div>\n",
       "<style scoped>\n",
       "    .dataframe tbody tr th:only-of-type {\n",
       "        vertical-align: middle;\n",
       "    }\n",
       "\n",
       "    .dataframe tbody tr th {\n",
       "        vertical-align: top;\n",
       "    }\n",
       "\n",
       "    .dataframe thead th {\n",
       "        text-align: right;\n",
       "    }\n",
       "</style>\n",
       "<table border=\"1\" class=\"dataframe\">\n",
       "  <thead>\n",
       "    <tr style=\"text-align: right;\">\n",
       "      <th></th>\n",
       "      <th>Date</th>\n",
       "      <th>Home</th>\n",
       "      <th>Away</th>\n",
       "      <th>Scored Home</th>\n",
       "      <th>Scored Away</th>\n",
       "      <th>Status</th>\n",
       "    </tr>\n",
       "  </thead>\n",
       "  <tbody>\n",
       "    <tr>\n",
       "      <th>0</th>\n",
       "      <td>2021-08-21 16:30:00</td>\n",
       "      <td>Verona</td>\n",
       "      <td>Sassuolo</td>\n",
       "      <td>2</td>\n",
       "      <td>3</td>\n",
       "      <td>True</td>\n",
       "    </tr>\n",
       "    <tr>\n",
       "      <th>1</th>\n",
       "      <td>2021-08-21 16:30:00</td>\n",
       "      <td>Inter</td>\n",
       "      <td>Genoa</td>\n",
       "      <td>4</td>\n",
       "      <td>0</td>\n",
       "      <td>True</td>\n",
       "    </tr>\n",
       "    <tr>\n",
       "      <th>2</th>\n",
       "      <td>2021-08-21 18:45:00</td>\n",
       "      <td>Torino</td>\n",
       "      <td>Atalanta</td>\n",
       "      <td>1</td>\n",
       "      <td>2</td>\n",
       "      <td>True</td>\n",
       "    </tr>\n",
       "    <tr>\n",
       "      <th>3</th>\n",
       "      <td>2021-08-21 18:45:00</td>\n",
       "      <td>Empoli</td>\n",
       "      <td>Lazio</td>\n",
       "      <td>1</td>\n",
       "      <td>3</td>\n",
       "      <td>True</td>\n",
       "    </tr>\n",
       "    <tr>\n",
       "      <th>4</th>\n",
       "      <td>2021-08-22 16:30:00</td>\n",
       "      <td>Bologna</td>\n",
       "      <td>Salernitana</td>\n",
       "      <td>3</td>\n",
       "      <td>2</td>\n",
       "      <td>True</td>\n",
       "    </tr>\n",
       "  </tbody>\n",
       "</table>\n",
       "</div>"
      ],
      "text/plain": [
       "                  Date     Home         Away Scored Home Scored Away  Status\n",
       "0  2021-08-21 16:30:00   Verona     Sassuolo           2           3    True\n",
       "1  2021-08-21 16:30:00    Inter        Genoa           4           0    True\n",
       "2  2021-08-21 18:45:00   Torino     Atalanta           1           2    True\n",
       "3  2021-08-21 18:45:00   Empoli        Lazio           1           3    True\n",
       "4  2021-08-22 16:30:00  Bologna  Salernitana           3           2    True"
      ]
     },
     "execution_count": 9,
     "metadata": {},
     "output_type": "execute_result"
    }
   ],
   "source": [
    "fixtures_df.head()"
   ]
  },
  {
   "cell_type": "code",
   "execution_count": 10,
   "metadata": {},
   "outputs": [
    {
     "data": {
      "text/plain": [
       "Date           object\n",
       "Home           object\n",
       "Away           object\n",
       "Scored Home    object\n",
       "Scored Away    object\n",
       "Status           bool\n",
       "dtype: object"
      ]
     },
     "execution_count": 10,
     "metadata": {},
     "output_type": "execute_result"
    }
   ],
   "source": [
    "fixtures_df.dtypes"
   ]
  },
  {
   "cell_type": "code",
   "execution_count": 11,
   "metadata": {},
   "outputs": [],
   "source": [
    "fixtures_df['Date'] = pd.to_datetime(fixtures_df['Date']).dt.date"
   ]
  },
  {
   "cell_type": "markdown",
   "metadata": {},
   "source": [
    "### Look up the next match for a spesific team"
   ]
  },
  {
   "cell_type": "code",
   "execution_count": 12,
   "metadata": {},
   "outputs": [],
   "source": [
    "def next_game(teamName):\n",
    "    '''This function receives a team's name\n",
    "    and returns game data and the opponent team.'''\n",
    "    sliced = fixtures_df[((fixtures_df.Home==teamName) | (fixtures_df.Away==teamName)) & (fixtures_df.Status==False)]\n",
    "    if sliced.shape[0] == 0:\n",
    "          print('No game is available')\n",
    "    else:\n",
    "        return sliced.iloc[0][['Date', 'Home', 'Away']]\n",
    "    "
   ]
  },
  {
   "cell_type": "code",
   "execution_count": 13,
   "metadata": {},
   "outputs": [
    {
     "data": {
      "text/plain": [
       "Date    2022-03-19\n",
       "Home        Napoli\n",
       "Away       Udinese\n",
       "Name: 292, dtype: object"
      ]
     },
     "execution_count": 13,
     "metadata": {},
     "output_type": "execute_result"
    }
   ],
   "source": [
    "# teams = ['Verona','Roma','Lazio','Bologna','Juventus','Udinese','Genoa','Sampdoria','Sassuolo','Napoli','Inter','Atalanta','Empoli','Fiorentina','AC Milan','Torino','Cagliari','Spezia','Salernitana','Venezia']\n",
    "next_game('Napoli')"
   ]
  },
  {
   "cell_type": "markdown",
   "metadata": {},
   "source": [
    "### Look up the next match"
   ]
  },
  {
   "cell_type": "code",
   "execution_count": 14,
   "metadata": {},
   "outputs": [],
   "source": [
    "def next_game():\n",
    "    '''This function returns the next game information'''\n",
    "    sliced = fixtures_df[(fixtures_df.Status==False)& (fixtures_df.Date > date.today())]\n",
    "    if sliced.shape[0] == 0:\n",
    "        print('No game is available')\n",
    "    else:\n",
    "        next_game_list = sliced[sliced['Date']==sliced.iloc[0]['Date']]\n",
    "        print(next_game_list[['Date', 'Home', 'Away']])"
   ]
  },
  {
   "cell_type": "code",
   "execution_count": 15,
   "metadata": {},
   "outputs": [
    {
     "name": "stdout",
     "output_type": "stream",
     "text": [
      "           Date      Home    Away\n",
      "290  2022-03-18  Sassuolo  Spezia\n",
      "291  2022-03-18     Genoa  Torino\n"
     ]
    }
   ],
   "source": [
    "next_game()"
   ]
  },
  {
   "cell_type": "code",
   "execution_count": null,
   "metadata": {},
   "outputs": [],
   "source": []
  },
  {
   "cell_type": "code",
   "execution_count": null,
   "metadata": {},
   "outputs": [],
   "source": []
  }
 ],
 "metadata": {
  "kernelspec": {
   "display_name": "Python 3",
   "language": "python",
   "name": "python3"
  },
  "language_info": {
   "codemirror_mode": {
    "name": "ipython",
    "version": 3
   },
   "file_extension": ".py",
   "mimetype": "text/x-python",
   "name": "python",
   "nbconvert_exporter": "python",
   "pygments_lexer": "ipython3",
   "version": "3.7.3"
  }
 },
 "nbformat": 4,
 "nbformat_minor": 2
}
